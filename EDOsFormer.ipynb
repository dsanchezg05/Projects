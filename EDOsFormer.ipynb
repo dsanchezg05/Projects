{
 "cells": [
  {
   "cell_type": "markdown",
   "metadata": {},
   "source": [
    "Por ejemplo, si se tiene la reacción:\n",
    "$$\n",
    "2·H_{2} + O_{2} <-> 2·H_{2}0\n",
    "$$\n",
    "Hay 3 especies: X1 ($H_{2}$), X2 ($O_{2}$), X3 ($H_{2}O$)\\\n",
    "En el input por tanto, se requiere meter los datos de la forma:\n",
    "- Reactivos 1: 2*X1+X2\n",
    "- Productos 1: 2*X3\n",
    "- Reactivos 2: 2*X3\n",
    "- Productos 2: 2*X1+X2"
   ]
  },
  {
   "cell_type": "code",
   "execution_count": 9,
   "metadata": {},
   "outputs": [
    {
     "name": "stdout",
     "output_type": "stream",
     "text": [
      "Reactivos 1: X1+2*X2\n",
      "Productos 1: 2*X3\n",
      "-----\n",
      "Reactivos 2: 2*X3\n",
      "Productos 2: X1+2*X2\n",
      "-----\n",
      "--------\n",
      "--------\n",
      "I was called with 2 arguments: [[['X1X2X2'], ['X3X3']], [['X3X3'], ['X1X2X2']]]\n",
      "La reacción 1 es de orden: 3, teniendo la k de la reacción unidades de: M^-2/s\n",
      "La reacción 2 es de orden: 2, teniendo la k de la reacción unidades de: M^-1/s\n",
      "['X_1', 'X_2', 'X_3']\n",
      "-------\n",
      "RESULT\n",
      "-------\n"
     ]
    },
    {
     "data": {
      "text/latex": [
       "$dX_1/dt=-1·k_1·X_1^1·X_2^2+1·k_2·X_3^2$"
      ],
      "text/plain": [
       "<IPython.core.display.Latex object>"
      ]
     },
     "metadata": {},
     "output_type": "display_data"
    },
    {
     "data": {
      "text/latex": [
       "$dX_2/dt=-2·k_1·X_1^1·X_2^2+2·k_2·X_3^2$"
      ],
      "text/plain": [
       "<IPython.core.display.Latex object>"
      ]
     },
     "metadata": {},
     "output_type": "display_data"
    },
    {
     "data": {
      "text/latex": [
       "$dX_3/dt=+2·k_1·X_1^1·X_2^2-2·k_2·X_3^2$"
      ],
      "text/plain": [
       "<IPython.core.display.Latex object>"
      ]
     },
     "metadata": {},
     "output_type": "display_data"
    }
   ],
   "source": [
    "import numpy as np\n",
    "from IPython.display import display, Latex\n",
    "\n",
    "#Reactions creation\n",
    "full=[]\n",
    "n_reac_unidir=int(input(\"Número de reacciones totales: \"))\n",
    "for i in range(0,n_reac_unidir):\n",
    "    reac=input(\"Reactivos {0}: \".format(i+1))\n",
    "    print(\"Reactivos {0}: {1}\".format(i+1,reac))\n",
    "    prod=input(\"Productos {0}: \".format(i+1))\n",
    "    print(\"Productos {0}: {1}\".format(i+1,prod))\n",
    "    print(\"-----\")\n",
    "\n",
    "    new_reac=\"\"\n",
    "    for i in reac.split(\"+\"):\n",
    "        try:\n",
    "            int(i[0])\n",
    "            inter=int(i[0])*i.split(\"*\")[-1]\n",
    "            new_reac=new_reac+inter\n",
    "        except:\n",
    "            new_reac = new_reac+i\n",
    "\n",
    "    new_prod=\"\"\n",
    "    for i in prod.split(\"+\"):\n",
    "        try:\n",
    "            int(i[0])\n",
    "            inter=int(i[0])*i.split(\"*\")[-1]\n",
    "            new_prod=new_prod+inter\n",
    "        except:\n",
    "            new_prod = new_prod+i\n",
    "\n",
    "\n",
    "\n",
    "    full.append([[new_reac],[new_prod]])\n",
    "    \n",
    "#Creation of X,A,B\n",
    "def X_A_B(args):\n",
    "    print(\"I was called with\", len(args), \"arguments:\", args)\n",
    "    X=[];X_mostrar=[];A=[];B=[]\n",
    "    for r in args:\n",
    "        for i in r:\n",
    "            string=i[0]\n",
    "            for m in range(0,len(string)):\n",
    "                if string[m] == \"X\" and (string[m:m+2] not in X):\n",
    "                    X.append(string[m:m+2])\n",
    "                    X_mostrar.append(string[m]+\"_\"+string[m+1])\n",
    "\n",
    "    for r in args:\n",
    "        k=1\n",
    "        for i in r:\n",
    "            string=i[0]\n",
    "            ele=[]\n",
    "            for j in X:\n",
    "                cnt=string.count(j)\n",
    "                ele.append(cnt)\n",
    "            if k == 1:\n",
    "                A.append(ele)\n",
    "            else: B.append(ele)\n",
    "            \n",
    "            k=k+1\n",
    "    return X_mostrar,A,B\n",
    "\n",
    "#Creation of traspose and order\n",
    "def restaT_order_Kunits(a,b):\n",
    "    num_reacc=np.shape(a)[0];orders=[]; k_unit=[]\n",
    "    for i in range(0,num_reacc):\n",
    "        orders.append(sum(a[i]))\n",
    "        k_unit.append(1-sum(a[i]))\n",
    "    return np.transpose(np.array(b)-np.array(a)), orders,  k_unit\n",
    "\n",
    "\n",
    "print(\"--------\")\n",
    "print(\"--------\")\n",
    "x,a,b=X_A_B(full)\n",
    "m,ord,ks=restaT_order_Kunits(a,b)\n",
    "for i in range(0,len(ord)):\n",
    "    print(\"La reacción {0} es de orden: {1}, teniendo la k de la reacción unidades de: M^{2}/s\".format(i+1,ord[i],ks[i]))\n",
    "print(x)\n",
    "\n",
    "\n",
    "#Creation of K_X^A\n",
    "def K_XA(x,a):\n",
    "    XA = [];k_count=0\n",
    "    for i in a:\n",
    "        ele=[];k=0\n",
    "        \n",
    "        for j in i:\n",
    "            if j != 0:\n",
    "                ele.append(\"{0}^{1}\".format(x[k],j))\n",
    "            k=k+1\n",
    "                \n",
    "        k=k+1\n",
    "        ele.insert(0,\"k_{0}\".format(k_count+1))\n",
    "        XA.append(ele)\n",
    "        k_count=k_count+1\n",
    "    return XA\n",
    "\n",
    "xa=K_XA(x,a)\n",
    "xa\n",
    "\n",
    "#Creaqtion of the result\n",
    "x_element=0\n",
    "fin=[]\n",
    "for i in m:\n",
    "    ele=[]\n",
    "    XA_element=0\n",
    "    for j in i:\n",
    "        if j!=0:\n",
    "            joi=\",\".join(xa[XA_element])\n",
    "            f=joi.replace(\",\",\"·\")\n",
    "            ele.append(\"{0}·{1}\".format(j,f))\n",
    "        else: ele.append(0)\n",
    "        XA_element=XA_element+1\n",
    "        \n",
    "    fin.append(ele)\n",
    "    \n",
    "fin\n",
    "\n",
    "#Display the result\n",
    "print(\"-------\")\n",
    "print(\"RESULT\")\n",
    "print(\"-------\")\n",
    "k=0\n",
    "for i in range(0,np.shape(fin)[0]):\n",
    "    p=(\"d\"+str(x[k])+\"/dt\")+\"=\"\n",
    "    for j in fin[i]:\n",
    "        if j != 0:\n",
    "            if j[0] == \"-\":\n",
    "                p=p+j\n",
    "            else:\n",
    "                p=p+\"+\"+j\n",
    "    display(Latex(f'${p}$'))\n",
    "    k=k+1"
   ]
  }
 ],
 "metadata": {
  "kernelspec": {
   "display_name": "base",
   "language": "python",
   "name": "python3"
  },
  "language_info": {
   "codemirror_mode": {
    "name": "ipython",
    "version": 3
   },
   "file_extension": ".py",
   "mimetype": "text/x-python",
   "name": "python",
   "nbconvert_exporter": "python",
   "pygments_lexer": "ipython3",
   "version": "3.12.2"
  }
 },
 "nbformat": 4,
 "nbformat_minor": 2
}
